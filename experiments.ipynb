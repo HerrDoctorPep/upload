{
 "cells": [
  {
   "cell_type": "markdown",
   "metadata": {},
   "source": [
    "# Tracking the issue with Azure Speech SDK"
   ]
  },
  {
   "cell_type": "code",
   "execution_count": 2,
   "metadata": {},
   "outputs": [],
   "source": [
    "import sys\n",
    "import os\n",
    "\n",
    "from dotenv import load_dotenv\n",
    "\n",
    "load_dotenv(dotenv_path=\"secrets/.env\")\n",
    "\n",
    "import speech2text as s2t"
   ]
  },
  {
   "cell_type": "code",
   "execution_count": 7,
   "metadata": {},
   "outputs": [
    {
     "name": "stdout",
     "output_type": "stream",
     "text": [
      "SESSION STARTED: SessionEventArgs(session_id=b2ea87566275457cbd0efc6dc98efb9c)\n",
      "RECOGNIZING: SpeechRecognitionEventArgs(session_id=b2ea87566275457cbd0efc6dc98efb9c, result=SpeechRecognitionResult(result_id=b1082674ced94a9981745b6a8fdf30e4, text=\"listen a minute\", reason=ResultReason.RecognizingSpeech))\n",
      "RECOGNIZING: SpeechRecognitionEventArgs(session_id=b2ea87566275457cbd0efc6dc98efb9c, result=SpeechRecognitionResult(result_id=fba855778ea74e06a34f3566c6f3760d, text=\"listenaminute.com\", reason=ResultReason.RecognizingSpeech))\n",
      "RECOGNIZED: SpeechRecognitionEventArgs(session_id=b2ea87566275457cbd0efc6dc98efb9c, result=SpeechRecognitionResult(result_id=cf0ea8540dfd47e691c45ab6b4dc3c96, text=\"Listenaminute.com.\", reason=ResultReason.RecognizedSpeech))\n",
      "RECOGNIZING: SpeechRecognitionEventArgs(session_id=b2ea87566275457cbd0efc6dc98efb9c, result=SpeechRecognitionResult(result_id=09f4e6f8514c4b0d9d0e95949f885332, text=\"actors\", reason=ResultReason.RecognizingSpeech))\n",
      "RECOGNIZED: SpeechRecognitionEventArgs(session_id=b2ea87566275457cbd0efc6dc98efb9c, result=SpeechRecognitionResult(result_id=9c13aa11176e46459f68107f8bd6a31f, text=\"Actors.\", reason=ResultReason.RecognizedSpeech))\n",
      "RECOGNIZING: SpeechRecognitionEventArgs(session_id=b2ea87566275457cbd0efc6dc98efb9c, result=SpeechRecognitionResult(result_id=a4ef92d068864beb8909573e36f9f56a, text=\"being an\", reason=ResultReason.RecognizingSpeech))\n",
      "RECOGNIZING: SpeechRecognitionEventArgs(session_id=b2ea87566275457cbd0efc6dc98efb9c, result=SpeechRecognitionResult(result_id=f8f68b13c95f4870a202920069982283, text=\"being an actor must\", reason=ResultReason.RecognizingSpeech))\n",
      "RECOGNIZING: SpeechRecognitionEventArgs(session_id=b2ea87566275457cbd0efc6dc98efb9c, result=SpeechRecognitionResult(result_id=ede4ccc629c64a908b36219d730b254f, text=\"being an actor must be great\", reason=ResultReason.RecognizingSpeech))\n",
      "RECOGNIZING: SpeechRecognitionEventArgs(session_id=b2ea87566275457cbd0efc6dc98efb9c, result=SpeechRecognitionResult(result_id=f650f8b545b94ccda0c8a5da3dd84012, text=\"being an actor must be great i\", reason=ResultReason.RecognizingSpeech))\n",
      "RECOGNIZING: SpeechRecognitionEventArgs(session_id=b2ea87566275457cbd0efc6dc98efb9c, result=SpeechRecognitionResult(result_id=c5987c5703de4ff8a5518422a87cfba5, text=\"being an actor must be great i really wish i\", reason=ResultReason.RecognizingSpeech))\n",
      "RECOGNIZING: SpeechRecognitionEventArgs(session_id=b2ea87566275457cbd0efc6dc98efb9c, result=SpeechRecognitionResult(result_id=91ea432bf2cd4762a51aaafd1c71bb8b, text=\"being an actor must be great i really wish i could act\", reason=ResultReason.RecognizingSpeech))\n",
      "RECOGNIZED: SpeechRecognitionEventArgs(session_id=b2ea87566275457cbd0efc6dc98efb9c, result=SpeechRecognitionResult(result_id=41464b3226914837be7a001e57e7405b, text=\"Being an actor must be great. I really wish I could act.\", reason=ResultReason.RecognizedSpeech))\n",
      "RECOGNIZING: SpeechRecognitionEventArgs(session_id=b2ea87566275457cbd0efc6dc98efb9c, result=SpeechRecognitionResult(result_id=682801b65db042f4b5cef929d88bd512, text=\"i'd\", reason=ResultReason.RecognizingSpeech))\n",
      "RECOGNIZING: SpeechRecognitionEventArgs(session_id=b2ea87566275457cbd0efc6dc98efb9c, result=SpeechRecognitionResult(result_id=e7bad6b5991b411fa73e84959e3616e7, text=\"i'd love\", reason=ResultReason.RecognizingSpeech))\n",
      "RECOGNIZING: SpeechRecognitionEventArgs(session_id=b2ea87566275457cbd0efc6dc98efb9c, result=SpeechRecognitionResult(result_id=04714e8b137e465c9dd2d9018b0815b6, text=\"i'd love to\", reason=ResultReason.RecognizingSpeech))\n",
      "RECOGNIZING: SpeechRecognitionEventArgs(session_id=b2ea87566275457cbd0efc6dc98efb9c, result=SpeechRecognitionResult(result_id=80ed37be783b4f26bee392d04aec3725, text=\"i'd love to have the\", reason=ResultReason.RecognizingSpeech))\n",
      "RECOGNIZING: SpeechRecognitionEventArgs(session_id=b2ea87566275457cbd0efc6dc98efb9c, result=SpeechRecognitionResult(result_id=2677e0eba4634d768fe5135c62916cd6, text=\"i'd love to have the confidence to\", reason=ResultReason.RecognizingSpeech))\n",
      "RECOGNIZING: SpeechRecognitionEventArgs(session_id=b2ea87566275457cbd0efc6dc98efb9c, result=SpeechRecognitionResult(result_id=04630b37edc541f5ae0da7ef99c77c4a, text=\"i'd love to have the confidence to act in\", reason=ResultReason.RecognizingSpeech))\n",
      "RECOGNIZING: SpeechRecognitionEventArgs(session_id=b2ea87566275457cbd0efc6dc98efb9c, result=SpeechRecognitionResult(result_id=63f98f92edc34db1b72290d4a1c64fe6, text=\"i'd love to have the confidence to act in front of\", reason=ResultReason.RecognizingSpeech))\n",
      "RECOGNIZING: SpeechRecognitionEventArgs(session_id=b2ea87566275457cbd0efc6dc98efb9c, result=SpeechRecognitionResult(result_id=b573fc1f12fb4fc6bc01dbe3f668bc55, text=\"i'd love to have the confidence to act in front of people\", reason=ResultReason.RecognizingSpeech))\n",
      "RECOGNIZED: SpeechRecognitionEventArgs(session_id=b2ea87566275457cbd0efc6dc98efb9c, result=SpeechRecognitionResult(result_id=890a8b8d234b4bbebb9a426a40bdbca3, text=\"I'd love to have the confidence to act in front of people.\", reason=ResultReason.RecognizedSpeech))\n",
      "RECOGNIZING: SpeechRecognitionEventArgs(session_id=b2ea87566275457cbd0efc6dc98efb9c, result=SpeechRecognitionResult(result_id=f165e14b36074d40b92f461ce67e7853, text=\"being\", reason=ResultReason.RecognizingSpeech))\n",
      "RECOGNIZING: SpeechRecognitionEventArgs(session_id=b2ea87566275457cbd0efc6dc98efb9c, result=SpeechRecognitionResult(result_id=7509c550de2a47a38a024fd8eae9205b, text=\"being a member\", reason=ResultReason.RecognizingSpeech))\n",
      "RECOGNIZING: SpeechRecognitionEventArgs(session_id=b2ea87566275457cbd0efc6dc98efb9c, result=SpeechRecognitionResult(result_id=b50643a9bcc14f15acaf285fe9b588a4, text=\"being a member of the\", reason=ResultReason.RecognizingSpeech))\n",
      "RECOGNIZING: SpeechRecognitionEventArgs(session_id=b2ea87566275457cbd0efc6dc98efb9c, result=SpeechRecognitionResult(result_id=1e606d11200f4f03b689d28a1d95b98a, text=\"being a member of the audience at\", reason=ResultReason.RecognizingSpeech))\n",
      "RECOGNIZING: SpeechRecognitionEventArgs(session_id=b2ea87566275457cbd0efc6dc98efb9c, result=SpeechRecognitionResult(result_id=bc824bf78b1c462eb954e337bddcf8f8, text=\"being a member of the audience at the\", reason=ResultReason.RecognizingSpeech))\n",
      "RECOGNIZING: SpeechRecognitionEventArgs(session_id=b2ea87566275457cbd0efc6dc98efb9c, result=SpeechRecognitionResult(result_id=a9d8b7ad43844e95a0ebc0d3fc47a324, text=\"being a member of the audience at the theatre\", reason=ResultReason.RecognizingSpeech))\n",
      "RECOGNIZING: SpeechRecognitionEventArgs(session_id=b2ea87566275457cbd0efc6dc98efb9c, result=SpeechRecognitionResult(result_id=2474a594226c44e3825fd8901e8e93fe, text=\"being a member of the audience at the theatre is\", reason=ResultReason.RecognizingSpeech))\n",
      "RECOGNIZING: SpeechRecognitionEventArgs(session_id=b2ea87566275457cbd0efc6dc98efb9c, result=SpeechRecognitionResult(result_id=2b96d6c3c5454a9b88b15b227288516d, text=\"being a member of the audience at the theatre is great\", reason=ResultReason.RecognizingSpeech))\n",
      "RECOGNIZING: SpeechRecognitionEventArgs(session_id=b2ea87566275457cbd0efc6dc98efb9c, result=SpeechRecognitionResult(result_id=043a0769c45e43b5aa8534ee09c9ac21, text=\"being a member of the audience at the theatre is great but\", reason=ResultReason.RecognizingSpeech))\n",
      "RECOGNIZING: SpeechRecognitionEventArgs(session_id=b2ea87566275457cbd0efc6dc98efb9c, result=SpeechRecognitionResult(result_id=9adc22203d254acca24d6559c1afcdc1, text=\"being a member of the audience at the theatre is great but acting on\", reason=ResultReason.RecognizingSpeech))\n",
      "RECOGNIZING: SpeechRecognitionEventArgs(session_id=b2ea87566275457cbd0efc6dc98efb9c, result=SpeechRecognitionResult(result_id=4717092b07c44c6fb5d16318a79fee48, text=\"being a member of the audience at the theatre is great but acting on stage is\", reason=ResultReason.RecognizingSpeech))\n",
      "RECOGNIZING: SpeechRecognitionEventArgs(session_id=b2ea87566275457cbd0efc6dc98efb9c, result=SpeechRecognitionResult(result_id=93736ac5c20f4ffe937f1c32b8781473, text=\"being a member of the audience at the theatre is great but acting on stage is better\", reason=ResultReason.RecognizingSpeech))\n",
      "RECOGNIZED: SpeechRecognitionEventArgs(session_id=b2ea87566275457cbd0efc6dc98efb9c, result=SpeechRecognitionResult(result_id=df92866be583415da70f65d81e4463b7, text=\"Being a member of the audience at the theatre is great, but acting on stage is better.\", reason=ResultReason.RecognizedSpeech))\n",
      "RECOGNIZING: SpeechRecognitionEventArgs(session_id=b2ea87566275457cbd0efc6dc98efb9c, result=SpeechRecognitionResult(result_id=826d3b5644a44ae1aae8405a1b547c42, text=\"i\", reason=ResultReason.RecognizingSpeech))\n",
      "RECOGNIZING: SpeechRecognitionEventArgs(session_id=b2ea87566275457cbd0efc6dc98efb9c, result=SpeechRecognitionResult(result_id=acb94d55885148b38738c8e3b61a5479, text=\"i wonder what it's\", reason=ResultReason.RecognizingSpeech))\n",
      "RECOGNIZING: SpeechRecognitionEventArgs(session_id=b2ea87566275457cbd0efc6dc98efb9c, result=SpeechRecognitionResult(result_id=f2afc7e2a30d4c2bbc9a9b46e5dd10ac, text=\"i wonder what it's like to be an\", reason=ResultReason.RecognizingSpeech))\n",
      "RECOGNIZING: SpeechRecognitionEventArgs(session_id=b2ea87566275457cbd0efc6dc98efb9c, result=SpeechRecognitionResult(result_id=20fb6a16b80744f7a8a932c507ff7901, text=\"i wonder what it's like to be a\", reason=ResultReason.RecognizingSpeech))\n",
      "RECOGNIZING: SpeechRecognitionEventArgs(session_id=b2ea87566275457cbd0efc6dc98efb9c, result=SpeechRecognitionResult(result_id=0cb0ab1567f5439ab0880c49a3a2322e, text=\"i wonder what it's like to be a movie\", reason=ResultReason.RecognizingSpeech))\n",
      "RECOGNIZING: SpeechRecognitionEventArgs(session_id=b2ea87566275457cbd0efc6dc98efb9c, result=SpeechRecognitionResult(result_id=afc3fa1a3eae4bf9bacde47c02a5a686, text=\"i wonder what it's like to be a movie star\", reason=ResultReason.RecognizingSpeech))\n",
      "RECOGNIZED: SpeechRecognitionEventArgs(session_id=b2ea87566275457cbd0efc6dc98efb9c, result=SpeechRecognitionResult(result_id=2e84157e4d7d476d98cf7afca7b9878c, text=\"I wonder what it's like to be a movie star.\", reason=ResultReason.RecognizedSpeech))\n",
      "RECOGNIZING: SpeechRecognitionEventArgs(session_id=b2ea87566275457cbd0efc6dc98efb9c, result=SpeechRecognitionResult(result_id=7c3fd5eeddb142d49e7d80fa7daabb09, text=\"i think\", reason=ResultReason.RecognizingSpeech))\n",
      "RECOGNIZING: SpeechRecognitionEventArgs(session_id=b2ea87566275457cbd0efc6dc98efb9c, result=SpeechRecognitionResult(result_id=02307f6a395245e498e6fd95847ad8c8, text=\"i think you need to\", reason=ResultReason.RecognizingSpeech))\n",
      "RECOGNIZING: SpeechRecognitionEventArgs(session_id=b2ea87566275457cbd0efc6dc98efb9c, result=SpeechRecognitionResult(result_id=d5ac700eb345414c98faa4ef7ad974a6, text=\"i think you need to be\", reason=ResultReason.RecognizingSpeech))\n",
      "RECOGNIZING: SpeechRecognitionEventArgs(session_id=b2ea87566275457cbd0efc6dc98efb9c, result=SpeechRecognitionResult(result_id=740ba529a20e4790a0bfa5a6185ae60c, text=\"i think you need to be beautiful or handsome\", reason=ResultReason.RecognizingSpeech))\n",
      "RECOGNIZING: SpeechRecognitionEventArgs(session_id=b2ea87566275457cbd0efc6dc98efb9c, result=SpeechRecognitionResult(result_id=1314ac642b6c4eba927588f5179e4782, text=\"i think you need to be beautiful or handsome to be a success\", reason=ResultReason.RecognizingSpeech))\n",
      "RECOGNIZING: SpeechRecognitionEventArgs(session_id=b2ea87566275457cbd0efc6dc98efb9c, result=SpeechRecognitionResult(result_id=59e89e463d4e4396bcb71f857a1dc61f, text=\"i think you need to be beautiful or handsome to be a\", reason=ResultReason.RecognizingSpeech))\n",
      "RECOGNIZING: SpeechRecognitionEventArgs(session_id=b2ea87566275457cbd0efc6dc98efb9c, result=SpeechRecognitionResult(result_id=4877714e1e314ef0b91eb09f50fd78cf, text=\"i think you need to be beautiful or handsome to be a successful\", reason=ResultReason.RecognizingSpeech))\n",
      "RECOGNIZING: SpeechRecognitionEventArgs(session_id=b2ea87566275457cbd0efc6dc98efb9c, result=SpeechRecognitionResult(result_id=9afbaee9d5bd4ce68444b0aa0158c818, text=\"i think you need to be beautiful or handsome to be a successful hollywood or\", reason=ResultReason.RecognizingSpeech))\n",
      "RECOGNIZING: SpeechRecognitionEventArgs(session_id=b2ea87566275457cbd0efc6dc98efb9c, result=SpeechRecognitionResult(result_id=17e09b79493549b5b8206e22836f26c8, text=\"i think you need to be beautiful or handsome to be a successful hollywood or bollywood\", reason=ResultReason.RecognizingSpeech))\n",
      "RECOGNIZING: SpeechRecognitionEventArgs(session_id=b2ea87566275457cbd0efc6dc98efb9c, result=SpeechRecognitionResult(result_id=e5828cda3b9d4176946c83cd69adf54e, text=\"i think you need to be beautiful or handsome to be a successful hollywood or bollywood actor\", reason=ResultReason.RecognizingSpeech))\n",
      "RECOGNIZING: SpeechRecognitionEventArgs(session_id=b2ea87566275457cbd0efc6dc98efb9c, result=SpeechRecognitionResult(result_id=7f92a7eabf2d484b975736898dda507c, text=\"i think you need to be beautiful or handsome to be a successful hollywood or bollywood actor they all\", reason=ResultReason.RecognizingSpeech))\n",
      "RECOGNIZING: SpeechRecognitionEventArgs(session_id=b2ea87566275457cbd0efc6dc98efb9c, result=SpeechRecognitionResult(result_id=66ae5a600e334586981454e53e8a37c1, text=\"i think you need to be beautiful or handsome to be a successful hollywood or bollywood actor they all look great\", reason=ResultReason.RecognizingSpeech))\n",
      "RECOGNIZED: SpeechRecognitionEventArgs(session_id=b2ea87566275457cbd0efc6dc98efb9c, result=SpeechRecognitionResult(result_id=758b23214fe7474dbc7bb2830ec080bf, text=\"I think you need to be beautiful or handsome to be a successful Hollywood or Bollywood actor. They all look great.\", reason=ResultReason.RecognizedSpeech))\n",
      "RECOGNIZING: SpeechRecognitionEventArgs(session_id=b2ea87566275457cbd0efc6dc98efb9c, result=SpeechRecognitionResult(result_id=b380855469f6465daf47f7f3e35dd4dc, text=\"actor\", reason=ResultReason.RecognizingSpeech))\n",
      "RECOGNIZING: SpeechRecognitionEventArgs(session_id=b2ea87566275457cbd0efc6dc98efb9c, result=SpeechRecognitionResult(result_id=d67093d001e34fcd94f741849cdc432e, text=\"actors are very\", reason=ResultReason.RecognizingSpeech))\n",
      "RECOGNIZING: SpeechRecognitionEventArgs(session_id=b2ea87566275457cbd0efc6dc98efb9c, result=SpeechRecognitionResult(result_id=f3d4efc6ddd24461ac6954f51b352376, text=\"actors are very lucky\", reason=ResultReason.RecognizingSpeech))\n",
      "RECOGNIZING: SpeechRecognitionEventArgs(session_id=b2ea87566275457cbd0efc6dc98efb9c, result=SpeechRecognitionResult(result_id=bfaf04235e334a19b1c4bf8dd2b61fa6, text=\"actors are very lucky they\", reason=ResultReason.RecognizingSpeech))\n",
      "RECOGNIZING: SpeechRecognitionEventArgs(session_id=b2ea87566275457cbd0efc6dc98efb9c, result=SpeechRecognitionResult(result_id=f79cc4a0fad2467d9dd0eee89f5316cc, text=\"actors are very lucky they get paid\", reason=ResultReason.RecognizingSpeech))\n",
      "RECOGNIZING: SpeechRecognitionEventArgs(session_id=b2ea87566275457cbd0efc6dc98efb9c, result=SpeechRecognitionResult(result_id=dc05aba50ec345e89785853029ab9b35, text=\"actors are very lucky they get paid huge\", reason=ResultReason.RecognizingSpeech))\n",
      "RECOGNIZING: SpeechRecognitionEventArgs(session_id=b2ea87566275457cbd0efc6dc98efb9c, result=SpeechRecognitionResult(result_id=898f1c2a54a14aac996515a1c8a05833, text=\"actors are very lucky they get paid huge amounts of\", reason=ResultReason.RecognizingSpeech))\n",
      "RECOGNIZING: SpeechRecognitionEventArgs(session_id=b2ea87566275457cbd0efc6dc98efb9c, result=SpeechRecognitionResult(result_id=9d7edb40d8d54deeab2b4930a46af232, text=\"actors are very lucky they get paid huge amounts of money to\", reason=ResultReason.RecognizingSpeech))\n",
      "RECOGNIZING: SpeechRecognitionEventArgs(session_id=b2ea87566275457cbd0efc6dc98efb9c, result=SpeechRecognitionResult(result_id=1a7b97500a754e5ba890b0d257843052, text=\"actors are very lucky they get paid huge amounts of money to do\", reason=ResultReason.RecognizingSpeech))\n",
      "RECOGNIZING: SpeechRecognitionEventArgs(session_id=b2ea87566275457cbd0efc6dc98efb9c, result=SpeechRecognitionResult(result_id=2d96e8082a244b6f976344d1b342564d, text=\"actors are very lucky they get paid huge amounts of money to do what\", reason=ResultReason.RecognizingSpeech))\n",
      "RECOGNIZING: SpeechRecognitionEventArgs(session_id=b2ea87566275457cbd0efc6dc98efb9c, result=SpeechRecognitionResult(result_id=eac8d795580e400f919ce0ccb522e463, text=\"actors are very lucky they get paid huge amounts of money to do what they love\", reason=ResultReason.RecognizingSpeech))\n",
      "RECOGNIZING: SpeechRecognitionEventArgs(session_id=b2ea87566275457cbd0efc6dc98efb9c, result=SpeechRecognitionResult(result_id=d9fbca9a355344cd89e92199cc7e7177, text=\"actors are very lucky they get paid huge amounts of money to do what they love doing\", reason=ResultReason.RecognizingSpeech))\n",
      "RECOGNIZED: SpeechRecognitionEventArgs(session_id=b2ea87566275457cbd0efc6dc98efb9c, result=SpeechRecognitionResult(result_id=f57f5c2e4ba74a13b35847c24ab41ea8, text=\"Actors are very lucky. They get paid huge amounts of money to do what they love doing.\", reason=ResultReason.RecognizedSpeech))\n",
      "RECOGNIZING: SpeechRecognitionEventArgs(session_id=b2ea87566275457cbd0efc6dc98efb9c, result=SpeechRecognitionResult(result_id=aeba47ad7e51480cb049236b5e0023f7, text=\"my\", reason=ResultReason.RecognizingSpeech))\n",
      "RECOGNIZING: SpeechRecognitionEventArgs(session_id=b2ea87566275457cbd0efc6dc98efb9c, result=SpeechRecognitionResult(result_id=eb9cd00bf58b4c1f93c872d32b696745, text=\"my favourite actor\", reason=ResultReason.RecognizingSpeech))\n",
      "RECOGNIZING: SpeechRecognitionEventArgs(session_id=b2ea87566275457cbd0efc6dc98efb9c, result=SpeechRecognitionResult(result_id=ff92918652fe4e548029e3e42008a612, text=\"my favourite actors are\", reason=ResultReason.RecognizingSpeech))\n",
      "RECOGNIZING: SpeechRecognitionEventArgs(session_id=b2ea87566275457cbd0efc6dc98efb9c, result=SpeechRecognitionResult(result_id=0c40c8b4dde74ff683d6a25137d24d23, text=\"my favourite actors are all\", reason=ResultReason.RecognizingSpeech))\n",
      "RECOGNIZING: SpeechRecognitionEventArgs(session_id=b2ea87566275457cbd0efc6dc98efb9c, result=SpeechRecognitionResult(result_id=93917cf7005a4f65a3046aa2f0607a5c, text=\"my favourite actors are all dead now\", reason=ResultReason.RecognizingSpeech))\n",
      "RECOGNIZING: SpeechRecognitionEventArgs(session_id=b2ea87566275457cbd0efc6dc98efb9c, result=SpeechRecognitionResult(result_id=65b4af710baa446296eb9afbe1bf2b6a, text=\"my favourite actors are all dead now i\", reason=ResultReason.RecognizingSpeech))\n",
      "RECOGNIZING: SpeechRecognitionEventArgs(session_id=b2ea87566275457cbd0efc6dc98efb9c, result=SpeechRecognitionResult(result_id=43d06f8b2d5f4a02862d85400c9e0edb, text=\"my favourite actors are all dead now i really like the\", reason=ResultReason.RecognizingSpeech))\n",
      "RECOGNIZING: SpeechRecognitionEventArgs(session_id=b2ea87566275457cbd0efc6dc98efb9c, result=SpeechRecognitionResult(result_id=8b99344ac9a84de4907e87ceb3ea68a4, text=\"my favourite actors are all dead now i really like the actors in the\", reason=ResultReason.RecognizingSpeech))\n",
      "RECOGNIZING: SpeechRecognitionEventArgs(session_id=b2ea87566275457cbd0efc6dc98efb9c, result=SpeechRecognitionResult(result_id=d05924b6e91d4b6a80b8af08d78d04c2, text=\"my favourite actors are all dead now i really like the actors in the old\", reason=ResultReason.RecognizingSpeech))\n",
      "RECOGNIZING: SpeechRecognitionEventArgs(session_id=b2ea87566275457cbd0efc6dc98efb9c, result=SpeechRecognitionResult(result_id=57f68db345fe4ba89c43dc067822880b, text=\"my favourite actors are all dead now i really like the actors in the old black and white\", reason=ResultReason.RecognizingSpeech))\n",
      "RECOGNIZING: SpeechRecognitionEventArgs(session_id=b2ea87566275457cbd0efc6dc98efb9c, result=SpeechRecognitionResult(result_id=ddb4883a1c2b41e190d50f85a8570b6a, text=\"my favourite actors are all dead now i really like the actors in the old black and white movies\", reason=ResultReason.RecognizingSpeech))\n",
      "RECOGNIZING: SpeechRecognitionEventArgs(session_id=b2ea87566275457cbd0efc6dc98efb9c, result=SpeechRecognitionResult(result_id=71cd71f72e884c7d8ad444c570873863, text=\"my favourite actors are all dead now i really like the actors in the old black and white movies they\", reason=ResultReason.RecognizingSpeech))\n",
      "RECOGNIZING: SpeechRecognitionEventArgs(session_id=b2ea87566275457cbd0efc6dc98efb9c, result=SpeechRecognitionResult(result_id=3168cab9123a43ae8bdbf1e38e38df27, text=\"my favourite actors are all dead now i really like the actors in the old black and white movies they all look\", reason=ResultReason.RecognizingSpeech))\n",
      "RECOGNIZING: SpeechRecognitionEventArgs(session_id=b2ea87566275457cbd0efc6dc98efb9c, result=SpeechRecognitionResult(result_id=819b46af9f884669a2b0336227d3544b, text=\"my favourite actors are all dead now i really like the actors in the old black and white movies they all looked so\", reason=ResultReason.RecognizingSpeech))\n",
      "RECOGNIZING: SpeechRecognitionEventArgs(session_id=b2ea87566275457cbd0efc6dc98efb9c, result=SpeechRecognitionResult(result_id=1e95d6d7316a4eddad2f7e68a2e9dcf2, text=\"my favourite actors are all dead now i really like the actors in the old black and white movies they all looked so cool\", reason=ResultReason.RecognizingSpeech))\n",
      "RECOGNIZED: SpeechRecognitionEventArgs(session_id=b2ea87566275457cbd0efc6dc98efb9c, result=SpeechRecognitionResult(result_id=2f525120c61f485683c379fcd391f9a3, text=\"My favourite actors are all dead now. I really like the actors in the old black and white movies. They all looked so cool.\", reason=ResultReason.RecognizedSpeech))\n",
      "RECOGNIZING: SpeechRecognitionEventArgs(session_id=b2ea87566275457cbd0efc6dc98efb9c, result=SpeechRecognitionResult(result_id=a0fd5ab779ec4b1b85e8f885ff09ca79, text=\"actor\", reason=ResultReason.RecognizingSpeech))\n",
      "RECOGNIZING: SpeechRecognitionEventArgs(session_id=b2ea87566275457cbd0efc6dc98efb9c, result=SpeechRecognitionResult(result_id=08b670c600024b18aee72b8cc73c8e33, text=\"actors in\", reason=ResultReason.RecognizingSpeech))\n",
      "RECOGNIZING: SpeechRecognitionEventArgs(session_id=b2ea87566275457cbd0efc6dc98efb9c, result=SpeechRecognitionResult(result_id=c488c338c93f421eb9c6bbce26eb7d27, text=\"actors in the old\", reason=ResultReason.RecognizingSpeech))\n",
      "RECOGNIZING: SpeechRecognitionEventArgs(session_id=b2ea87566275457cbd0efc6dc98efb9c, result=SpeechRecognitionResult(result_id=7855cea717684e1b84adb80e447fc251, text=\"actors in the old days\", reason=ResultReason.RecognizingSpeech))\n",
      "RECOGNIZING: SpeechRecognitionEventArgs(session_id=b2ea87566275457cbd0efc6dc98efb9c, result=SpeechRecognitionResult(result_id=9703509695bd4ffc858c15f10a7814b4, text=\"actors in the old days seemed\", reason=ResultReason.RecognizingSpeech))\n",
      "RECOGNIZING: SpeechRecognitionEventArgs(session_id=b2ea87566275457cbd0efc6dc98efb9c, result=SpeechRecognitionResult(result_id=e827fccd171f461db3e4285d40aba948, text=\"actors in the old days seemed to be\", reason=ResultReason.RecognizingSpeech))\n",
      "RECOGNIZING: SpeechRecognitionEventArgs(session_id=b2ea87566275457cbd0efc6dc98efb9c, result=SpeechRecognitionResult(result_id=69e95af9c959475d8143945a8d9d85c1, text=\"actors in the old days seemed to be more\", reason=ResultReason.RecognizingSpeech))\n",
      "RECOGNIZING: SpeechRecognitionEventArgs(session_id=b2ea87566275457cbd0efc6dc98efb9c, result=SpeechRecognitionResult(result_id=a08cc3f43b4a46bd935c334db86a5e42, text=\"actors in the old days seemed to be more glamorous\", reason=ResultReason.RecognizingSpeech))\n",
      "RECOGNIZING: SpeechRecognitionEventArgs(session_id=b2ea87566275457cbd0efc6dc98efb9c, result=SpeechRecognitionResult(result_id=c888a8eb2d2a4b5cba0ddf604efb7d54, text=\"actors in the old days seemed to be more glamorous than\", reason=ResultReason.RecognizingSpeech))\n",
      "RECOGNIZING: SpeechRecognitionEventArgs(session_id=b2ea87566275457cbd0efc6dc98efb9c, result=SpeechRecognitionResult(result_id=219cdb7738c84ac3bf028032be7783c6, text=\"actors in the old days seemed to be more glamorous than today\", reason=ResultReason.RecognizingSpeech))\n",
      "RECOGNIZING: SpeechRecognitionEventArgs(session_id=b2ea87566275457cbd0efc6dc98efb9c, result=SpeechRecognitionResult(result_id=e9085fb5feed4da78c543cbabad99fbd, text=\"actors in the old days seemed to be more glamorous than today's\", reason=ResultReason.RecognizingSpeech))\n",
      "RECOGNIZING: SpeechRecognitionEventArgs(session_id=b2ea87566275457cbd0efc6dc98efb9c, result=SpeechRecognitionResult(result_id=10cbe30ff8a64d7a8a1f5920943638ec, text=\"actors in the old days seemed to be more glamorous than today's actors\", reason=ResultReason.RecognizingSpeech))\n",
      "RECOGNIZING: SpeechRecognitionEventArgs(session_id=b2ea87566275457cbd0efc6dc98efb9c, result=SpeechRecognitionResult(result_id=f767e65af7ce43bfa1af16aab9ec6add, text=\"actors in the old days seemed to be more glamorous than today's actors the best thing\", reason=ResultReason.RecognizingSpeech))\n",
      "RECOGNIZING: SpeechRecognitionEventArgs(session_id=b2ea87566275457cbd0efc6dc98efb9c, result=SpeechRecognitionResult(result_id=2a91e92191524bb2910bafa388c3279b, text=\"actors in the old days seemed to be more glamorous than today's actors the best thing about being\", reason=ResultReason.RecognizingSpeech))\n",
      "RECOGNIZING: SpeechRecognitionEventArgs(session_id=b2ea87566275457cbd0efc6dc98efb9c, result=SpeechRecognitionResult(result_id=87c06964c4d64a4d9c04565d5cbf4930, text=\"actors in the old days seemed to be more glamorous than today's actors the best thing about being an actor\", reason=ResultReason.RecognizingSpeech))\n",
      "RECOGNIZING: SpeechRecognitionEventArgs(session_id=b2ea87566275457cbd0efc6dc98efb9c, result=SpeechRecognitionResult(result_id=32f170bb735e49d9a3aac9251c67c3dc, text=\"actors in the old days seemed to be more glamorous than today's actors the best thing about being an actor is\", reason=ResultReason.RecognizingSpeech))\n",
      "RECOGNIZING: SpeechRecognitionEventArgs(session_id=b2ea87566275457cbd0efc6dc98efb9c, result=SpeechRecognitionResult(result_id=0dac440437f74e4a9ebf890c68ae8446, text=\"actors in the old days seemed to be more glamorous than today's actors the best thing about being an actor is that all of\", reason=ResultReason.RecognizingSpeech))\n",
      "RECOGNIZING: SpeechRecognitionEventArgs(session_id=b2ea87566275457cbd0efc6dc98efb9c, result=SpeechRecognitionResult(result_id=bdb801c28b55479e9713955ebbd093c6, text=\"actors in the old days seemed to be more glamorous than today's actors the best thing about being an actor is that all of your\", reason=ResultReason.RecognizingSpeech))\n",
      "RECOGNIZING: SpeechRecognitionEventArgs(session_id=b2ea87566275457cbd0efc6dc98efb9c, result=SpeechRecognitionResult(result_id=9a3d6eb691964a96afcaa11a943d2f38, text=\"actors in the old days seemed to be more glamorous than today's actors the best thing about being an actor is that all of your friends\", reason=ResultReason.RecognizingSpeech))\n",
      "RECOGNIZING: SpeechRecognitionEventArgs(session_id=b2ea87566275457cbd0efc6dc98efb9c, result=SpeechRecognitionResult(result_id=a1a7d4fabe064ea5a78eaf6673358ed5, text=\"actors in the old days seemed to be more glamorous than today's actors the best thing about being an actor is that all of your friends are\", reason=ResultReason.RecognizingSpeech))\n",
      "RECOGNIZING: SpeechRecognitionEventArgs(session_id=b2ea87566275457cbd0efc6dc98efb9c, result=SpeechRecognitionResult(result_id=0450295c47c448dfa6b6eebe96835a88, text=\"actors in the old days seemed to be more glamorous than today's actors the best thing about being an actor is that all of your friends are famous\", reason=ResultReason.RecognizingSpeech))\n",
      "RECOGNIZING: SpeechRecognitionEventArgs(session_id=b2ea87566275457cbd0efc6dc98efb9c, result=SpeechRecognitionResult(result_id=e56dd99f1eee4b6aab7017fc46df2781, text=\"actors in the old days seemed to be more glamorous than today's actors the best thing about being an actor is that all of your friends are famous too\", reason=ResultReason.RecognizingSpeech))\n",
      "RECOGNIZED: SpeechRecognitionEventArgs(session_id=b2ea87566275457cbd0efc6dc98efb9c, result=SpeechRecognitionResult(result_id=7fa38760e6c645eb97ab3923b9b54072, text=\"Actors in the old days seemed to be more glamorous than today's actors. The best thing about being an actor is that all of your friends are famous too.\", reason=ResultReason.RecognizedSpeech))\n",
      "CANCELED SpeechRecognitionCanceledEventArgs(session_id=b2ea87566275457cbd0efc6dc98efb9c, result=SpeechRecognitionResult(result_id=a62bf39751f34c6ab55ae10fcfbf6f89, text=\"\", reason=ResultReason.Canceled))\n",
      "Session stopped on SpeechRecognitionCanceledEventArgs(session_id=b2ea87566275457cbd0efc6dc98efb9c, result=SpeechRecognitionResult(result_id=a62bf39751f34c6ab55ae10fcfbf6f89, text=\"\", reason=ResultReason.Canceled))\n",
      "SESSION STOPPED SessionEventArgs(session_id=b2ea87566275457cbd0efc6dc98efb9c)\n",
      "Session stopped on SessionEventArgs(session_id=b2ea87566275457cbd0efc6dc98efb9c)\n",
      "['Listenaminute.com.', 'Actors.', 'Being an actor must be great. I really wish I could act.', \"I'd love to have the confidence to act in front of people.\", 'Being a member of the audience at the theatre is great, but acting on stage is better.', \"I wonder what it's like to be a movie star.\", 'I think you need to be beautiful or handsome to be a successful Hollywood or Bollywood actor. They all look great.', 'Actors are very lucky. They get paid huge amounts of money to do what they love doing.', 'My favourite actors are all dead now. I really like the actors in the old black and white movies. They all looked so cool.', \"Actors in the old days seemed to be more glamorous than today's actors. The best thing about being an actor is that all of your friends are famous too.\"]\n"
     ]
    },
    {
     "data": {
      "text/plain": [
       "'processing/actorsss.txt'"
      ]
     },
     "execution_count": 7,
     "metadata": {},
     "output_type": "execute_result"
    }
   ],
   "source": [
    "wav_file = \"processing/actorsss.wav\"\n",
    "s2t.make_transcript(wav_file)"
   ]
  },
  {
   "cell_type": "code",
   "execution_count": 15,
   "metadata": {},
   "outputs": [
    {
     "data": {
      "text/plain": [
       "'processing/actorsss.summary'"
      ]
     },
     "execution_count": 15,
     "metadata": {},
     "output_type": "execute_result"
    }
   ],
   "source": [
    "s2t.make_summary(\"processing/actorsss.txt\")"
   ]
  },
  {
   "cell_type": "code",
   "execution_count": 4,
   "metadata": {},
   "outputs": [
    {
     "data": {
      "text/plain": [
       "'123'"
      ]
     },
     "execution_count": 4,
     "metadata": {},
     "output_type": "execute_result"
    }
   ],
   "source": [
    "text_str = \"12345678\"\n",
    "text_str[0:3]"
   ]
  }
 ],
 "metadata": {
  "kernelspec": {
   "display_name": "speech2text",
   "language": "python",
   "name": "python3"
  },
  "language_info": {
   "codemirror_mode": {
    "name": "ipython",
    "version": 3
   },
   "file_extension": ".py",
   "mimetype": "text/x-python",
   "name": "python",
   "nbconvert_exporter": "python",
   "pygments_lexer": "ipython3",
   "version": "3.10.4"
  }
 },
 "nbformat": 4,
 "nbformat_minor": 2
}
